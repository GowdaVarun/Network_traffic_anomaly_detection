{
 "cells": [
  {
   "cell_type": "markdown",
   "metadata": {},
   "source": [
    "# Enhanced Packet Classification & Anomaly Detection\n",
    "This notebook loads features from the cleaned packets CSV, trains a classification model using joblib for persistence, validates the model, and detects anomalies in network traffic."
   ]
  },
  {
   "cell_type": "code",
   "execution_count": 322,
   "metadata": {},
   "outputs": [],
   "source": [
    "import pandas as pd\n",
    "import numpy as np\n",
    "import logging\n",
    "import json\n",
    "import os\n",
    "import joblib\n",
    "from datetime import datetime\n",
    "from collections import Counter\n",
    "import logging\n",
    "import ipaddress\n",
    "from sklearn.ensemble import GradientBoostingClassifier\n",
    "from sklearn.model_selection import train_test_split\n",
    "from sklearn.metrics import classification_report, accuracy_score, precision_score, recall_score, f1_score\n",
    "from sklearn.preprocessing import LabelEncoder\n",
    "\n",
    "# Configure logging\n",
    "logging.basicConfig(level=logging.INFO, format='[%(levelname)s] %(message)s')\n",
    "\n",
    "# Define constants\n",
    "RAW_CSV = \"captured_packets.csv\"\n",
    "CLEAN_CSV = \"cleaned_packets.csv\"\n",
    "MODEL_PATH = \"packet_classifier.joblib\"\n",
    "JSON_OUTPUT = \"SCAM.json\""
   ]
  },
  {
   "cell_type": "code",
   "execution_count": 323,
   "metadata": {},
   "outputs": [],
   "source": [
    "# def ip_to_int(ip):\n",
    "#     try:\n",
    "#         return int(ipaddress.IPv4Address(str(ip)))\n",
    "#     except Exception as e:\n",
    "#         logging.warning(f\"Malformed IP: {ip} ({e})\")\n",
    "#         return 0  # fallback for malformed IPs\n",
    "\n",
    "\n",
    "# def create_cleaned_csv(raw_csv_path=\"captured_packets.csv\", clean_csv_path=\"cleaned_packets.csv\"):\n",
    "#     if not os.path.exists(raw_csv_path):\n",
    "#         raise FileNotFoundError(f\"Raw CSV file {raw_csv_path} not found!\")\n",
    "\n",
    "#     logging.info(f\"Processing raw packet data from {raw_csv_path}\")\n",
    "    \n",
    "#     try:\n",
    "#         df_raw = pd.read_csv(raw_csv_path, header=None, engine='python')\n",
    "#     except Exception as e:\n",
    "#         raise ValueError(f\"Failed to read raw CSV: {e}\")\n",
    "\n",
    "#     logging.info(f\"Loaded raw data with {len(df_raw)} rows\")\n",
    "\n",
    "#     df_raw.columns = [\n",
    "#         'timestamp', 'src_ip', 'dst_ip',\n",
    "#         'src_port', 'dst_port', 'protocol',\n",
    "#         'flags', 'length', 'ttl', 'window_size', 'label'\n",
    "#     ]\n",
    "\n",
    "#     print(\"Raw data sample:\")\n",
    "#     print(df_raw.head())\n",
    "\n",
    "#     df_clean = pd.DataFrame()\n",
    "#     df_clean['timestamp'] = df_raw['timestamp']\n",
    "#     df_clean['src_ip'] = df_raw['src_ip'].apply(ip_to_int)\n",
    "#     df_clean['dst_ip'] = df_raw['dst_ip'].apply(ip_to_int)\n",
    "#     df_clean['src_port'] = pd.to_numeric(df_raw['src_port'], errors='coerce').fillna(0).astype(int)\n",
    "#     df_clean['dst_port'] = pd.to_numeric(df_raw['dst_port'], errors='coerce').fillna(0).astype(int)\n",
    "\n",
    "#     protocol_encoder = LabelEncoder()\n",
    "#     df_clean['protocol'] = protocol_encoder.fit_transform(df_raw['protocol'].astype(str))\n",
    "#     joblib.dump(protocol_encoder, 'protocol_encoder.joblib')\n",
    "\n",
    "#     df_clean['flags'] = df_raw['flags'].apply(\n",
    "#         lambda x: int(str(x), 16) if str(x).startswith('0x') else x\n",
    "#     )\n",
    "#     df_clean['flags'] = pd.to_numeric(df_clean['flags'], errors='coerce').fillna(0).astype(int)\n",
    "\n",
    "#     df_clean['length'] = pd.to_numeric(df_raw['length'], errors='coerce').fillna(0).astype(int)\n",
    "\n",
    "#     df_clean['ttl'] = df_raw['ttl'].astype(str).str.replace('**', '', regex=False)\n",
    "#     df_clean['ttl'] = pd.to_numeric(df_clean['ttl'], errors='coerce').fillna(0).astype(int)\n",
    "\n",
    "#     df_clean['window_size'] = df_raw['window_size'].astype(str).str.replace('**', '', regex=False)\n",
    "#     df_clean['window_size'] = pd.to_numeric(df_clean['window_size'], errors='coerce').fillna(0).astype(int)\n",
    "\n",
    "#     print(\"Unique labels in raw data:\", df_raw['label'].unique())\n",
    "#     df_clean['label'] = df_raw['label'].astype(str).str.lower().map({\"good\": 0, \"bad\": 1})\n",
    "#     df_clean = df_clean.dropna(subset=['label'])\n",
    "\n",
    "#     # Remove rows with 0.0.0.0 IPs and \"good\" label\n",
    "#     zero_ip = ip_to_int(\"0.0.0.0\")\n",
    "#     print(\"Rows before 0.0.0.0 filtering:\", df_clean.shape)\n",
    "#     df_clean = df_clean[~((df_clean['src_ip'] == zero_ip) & (df_clean['label'] == 0))]\n",
    "#     df_clean = df_clean[~((df_clean['dst_ip'] == zero_ip) & (df_clean['label'] == 0))]\n",
    "\n",
    "#     df_clean = df_clean.dropna()\n",
    "\n",
    "#     print(\"Cleaned data shape:\", df_clean.shape)\n",
    "#     print(\"Sample cleaned data:\")\n",
    "#     print(df_clean.head())\n",
    "\n",
    "#     if df_clean.empty:\n",
    "#         logging.warning(\"No valid rows after cleaning! CSV will not be saved.\")\n",
    "#         return df_clean\n",
    "\n",
    "#     try:\n",
    "#         df_clean.to_csv(clean_csv_path, index=False, encoding='utf-8')\n",
    "#         print(f\"Saved cleaned data to {clean_csv_path}, rows: {len(df_clean)}\")\n",
    "#     except Exception as e:\n",
    "#         logging.error(f\"Failed to write cleaned CSV: {e}\")\n",
    "#         raise\n",
    "\n",
    "#     return df_clean\n"
   ]
  },
  {
   "cell_type": "markdown",
   "metadata": {},
   "source": [
    "## 1. Load the Cleaned Packet Data"
   ]
  },
  {
   "cell_type": "code",
   "execution_count": 324,
   "metadata": {},
   "outputs": [],
   "source": [
    "import time\n",
    "\n",
    "CLEAN_CSV = \"cleaned_packets.csv\"\n",
    "\n",
    "def load_data(timeout=5):\n",
    "    if not os.path.exists(CLEAN_CSV):\n",
    "        raise FileNotFoundError(f\"{CLEAN_CSV} not found! Please run data cleaning first.\")\n",
    "\n",
    "    wait_time = 0\n",
    "    while os.path.getsize(CLEAN_CSV) == 0:\n",
    "        if wait_time >= timeout:\n",
    "            raise ValueError(f\"{CLEAN_CSV} is still empty after {timeout} seconds! File may not be written correctly.\")\n",
    "        print(f\"[wait] {CLEAN_CSV} is empty... waiting 0.5s\")\n",
    "        time.sleep(0.5)\n",
    "        wait_time += 0.5\n",
    "\n",
    "    try:\n",
    "        df = pd.read_csv(CLEAN_CSV)\n",
    "    except pd.errors.EmptyDataError:\n",
    "        raise ValueError(f\"{CLEAN_CSV} is not readable as CSV (possibly corrupt or blank).\")\n",
    "\n",
    "    logging.info(f\"Loaded {len(df)} packets from {CLEAN_CSV}\")\n",
    "\n",
    "    numeric_cols = ['src_ip', 'dst_ip', 'src_port', 'dst_port', 'length', 'ttl', 'window_size', 'protocol', 'flags']\n",
    "    for col in numeric_cols:\n",
    "        if col in df.columns:\n",
    "            df[col] = pd.to_numeric(df[col], errors='coerce').fillna(0).astype(int)\n",
    "\n",
    "    # if 'label' in df.columns:\n",
    "    #     if df['label'].dtype == object:\n",
    "    #         df['label'] = df['label'].astype(str).str.lower().map({\"good\": 0, \"bad\": 1})\n",
    "    #     df['label'] = pd.to_numeric(df['label'], errors='coerce').fillna(0).astype(int)\n",
    "        # Map possible_anomaly field to label if present\n",
    "        if 'possible_anomaly' in df.columns:\n",
    "            df['label'] = df['possible_anomaly'].astype(str).str.lower().map({'yes': 1, 'no': 0})\n",
    "            df['label'] = pd.to_numeric(df['label'], errors='coerce').fillna(0).astype(int)\n",
    "    df.head()\n",
    "    return df\n"
   ]
  },
  {
   "cell_type": "markdown",
   "metadata": {},
   "source": [
    "## 2. Split Data into Training and Test Sets (70/30)"
   ]
  },
  {
   "cell_type": "code",
   "execution_count": 325,
   "metadata": {},
   "outputs": [
    {
     "name": "stderr",
     "output_type": "stream",
     "text": [
      "[INFO] Training set size: 5170 samples\n",
      "[INFO] Test set size: 2216 samples\n",
      "[INFO] Class distribution in training: Counter({0: 4612, 1: 558})\n",
      "[INFO] Class distribution in test: Counter({0: 1977, 1: 239})\n"
     ]
    }
   ],
   "source": [
    "import pandas as pd\n",
    "df = pd.read_csv(\"cleaned_packets.csv\")  # \n",
    "def prepare_data(df):\n",
    "    \"\"\"Prepare features and target, split into train/test sets\"\"\"\n",
    "    # Select features and target\n",
    "    features = ['src_ip', 'dst_ip', 'src_port', 'dst_port', 'protocol', 'flags', 'length', 'ttl', 'window_size']\n",
    "    X = df[features]\n",
    "    if 'possible_anomaly' in df.columns:\n",
    "            df['label'] = df['possible_anomaly'].astype(str).str.lower().map({'yes': 1, 'no': 0})\n",
    "            df['label'] = pd.to_numeric(df['label'], errors='coerce').fillna(0).astype(int)\n",
    "    y = df['label'] # Assuming 'possible_anomaly' is the target variable still okayyyyyyy\n",
    "    \n",
    "    # Split data into 70% training and 30% test sets\n",
    "    X_train, X_test, y_train, y_test = train_test_split(\n",
    "        X, y, test_size=0.3, stratify=y, random_state=42\n",
    "    )\n",
    "    \n",
    "    logging.info(f\"Training set size: {len(X_train)} samples\")\n",
    "    logging.info(f\"Test set size: {len(X_test)} samples\")\n",
    "    logging.info(f\"Class distribution in training: {Counter(y_train)}\")\n",
    "    logging.info(f\"Class distribution in test: {Counter(y_test)}\")\n",
    "    \n",
    "    return X_train, X_test, y_train, y_test, features\n",
    "\n",
    "# Prepare the data\n",
    "X_train, X_test, y_train, y_test, features = prepare_data(df)"
   ]
  },
  {
   "cell_type": "markdown",
   "metadata": {},
   "source": [
    "## 3. Train Model with joblib Persistence"
   ]
  },
  {
   "cell_type": "code",
   "execution_count": 326,
   "metadata": {},
   "outputs": [
    {
     "name": "stderr",
     "output_type": "stream",
     "text": [
      "[INFO] Loading existing model from packet_classifier.joblib\n"
     ]
    }
   ],
   "source": [
    "def train_and_save_model(X_train, y_train):\n",
    "    \"\"\"Train a GradientBoostingClassifier and save using joblib\"\"\"\n",
    "    # Check if model already exists\n",
    "    if os.path.exists(MODEL_PATH):\n",
    "        logging.info(f\"Loading existing model from {MODEL_PATH}\")\n",
    "        model = joblib.load(MODEL_PATH)\n",
    "    else:\n",
    "        logging.info(\"Training new GradientBoostingClassifier model...\")\n",
    "        model = GradientBoostingClassifier(\n",
    "            n_estimators=150,\n",
    "            learning_rate=0.1,\n",
    "            max_depth=5,\n",
    "            min_samples_split=5,\n",
    "            random_state=42\n",
    "        )\n",
    "        # Remove existing model file if present before saving new one\n",
    "        if os.path.exists(MODEL_PATH):\n",
    "            os.remove(MODEL_PATH)\n",
    "        model.fit(X_train, y_train)\n",
    "        #logic\n",
    "        \n",
    "        # Save the model\n",
    "        joblib.dump(model, MODEL_PATH)\n",
    "        logging.info(f\"Model saved to {MODEL_PATH}\")\n",
    "    \n",
    "    return model\n",
    "\n",
    "# Train or load the model\n",
    "model = train_and_save_model(X_train, y_train)"
   ]
  },
  {
   "cell_type": "markdown",
   "metadata": {},
   "source": [
    "## 4. Validate Model Performance"
   ]
  },
  {
   "cell_type": "code",
   "execution_count": 327,
   "metadata": {},
   "outputs": [
    {
     "name": "stdout",
     "output_type": "stream",
     "text": [
      "\n",
      "--- Model Evaluation ---\n",
      "              precision    recall  f1-score   support\n",
      "\n",
      "           0     0.9598    0.9530    0.9563      1977\n",
      "           1     0.6324    0.6695    0.6504       239\n",
      "\n",
      "    accuracy                         0.9224      2216\n",
      "   macro avg     0.7961    0.8112    0.8034      2216\n",
      "weighted avg     0.9245    0.9224    0.9233      2216\n",
      "\n",
      "Accuracy: 0.9224\n",
      "Precision: 0.6324\n",
      "Recall: 0.6695\n",
      "F1 Score: 0.6504\n"
     ]
    }
   ],
   "source": [
    "def validate_model(model, X_test, y_test):\n",
    "    \"\"\"Validate model performance on the test set\"\"\"\n",
    "    # Make predictions on test set\n",
    "    y_pred = model.predict(X_test)\n",
    "    \n",
    "    # Calculate performance metrics\n",
    "    accuracy = accuracy_score(y_test, y_pred)\n",
    "    precision = precision_score(y_test, y_pred, zero_division=0)\n",
    "    recall = recall_score(y_test, y_pred, zero_division=0)\n",
    "    f1 = f1_score(y_test, y_pred, zero_division=0)\n",
    "    \n",
    "    # Print detailed classification report\n",
    "    print(\"\\n--- Model Evaluation ---\")\n",
    "    print(classification_report(y_test, y_pred, digits=4))\n",
    "    print(f\"Accuracy: {accuracy:.4f}\")\n",
    "    print(f\"Precision: {precision:.4f}\")\n",
    "    print(f\"Recall: {recall:.4f}\")\n",
    "    print(f\"F1 Score: {f1:.4f}\")\n",
    "    \n",
    "    return {\n",
    "        'accuracy': accuracy,\n",
    "        'precision': precision,\n",
    "        'recall': recall,\n",
    "        'f1_score': f1,\n",
    "        'predictions': y_pred\n",
    "    }\n",
    "\n",
    "# Validate the model\n",
    "validation_results = validate_model(model, X_test, y_test)"
   ]
  },
  {
   "cell_type": "markdown",
   "metadata": {},
   "source": [
    "## 5. Predict Anomalies on Full Dataset"
   ]
  },
  {
   "cell_type": "code",
   "execution_count": 328,
   "metadata": {},
   "outputs": [
    {
     "name": "stderr",
     "output_type": "stream",
     "text": [
      "[INFO] Total packets analyzed: 7386\n",
      "[INFO] Total anomalies detected: 817 (11.06%)\n"
     ]
    }
   ],
   "source": [
    "def predict_anomalies(model, df, features):\n",
    "    \"\"\"Predict anomalies on the full dataset\"\"\"\n",
    "    # Make predictions on the entire dataset\n",
    "    df['predicted'] = model.predict(df[features])\n",
    "    \n",
    "    # Calculate basic statistics\n",
    "    total_packets = len(df)\n",
    "    anomalies = df[df['predicted'] == 1]\n",
    "    total_anomalies = len(anomalies)\n",
    "    anomaly_percentage = (total_anomalies / total_packets * 100) if total_packets > 0 else 0\n",
    "    \n",
    "    logging.info(f\"Total packets analyzed: {total_packets}\")\n",
    "    logging.info(f\"Total anomalies detected: {total_anomalies} ({anomaly_percentage:.2f}%)\")\n",
    "    \n",
    "    return df\n",
    "\n",
    "# Predict anomalies across the full dataset\n",
    "df_with_predictions = predict_anomalies(model, df, features)"
   ]
  },
  {
   "cell_type": "markdown",
   "metadata": {},
   "source": [
    "## 6. Generate and Save Summary to JSON"
   ]
  },
  {
   "cell_type": "code",
   "execution_count": 329,
   "metadata": {},
   "outputs": [
    {
     "name": "stderr",
     "output_type": "stream",
     "text": [
      "[INFO] Anomaly detection summary saved to SCAM.json\n"
     ]
    },
    {
     "name": "stdout",
     "output_type": "stream",
     "text": [
      "{\n",
      "    \"analysis_timestamp\": \"2025-05-19 16:01:15\",\n",
      "    \"model_performance\": {\n",
      "        \"accuracy\": 0.9223826714801444,\n",
      "        \"precision\": 0.6324110671936759,\n",
      "        \"recall\": 0.6694560669456067,\n",
      "        \"f1_score\": 0.6504065040650406\n",
      "    },\n",
      "    \"anomaly_summary\": {\n",
      "        \"total_packets\": 7386,\n",
      "        \"total_anomalies\": 817,\n",
      "        \"anomaly_percentage\": 11.061467641483889,\n",
      "        \"anomalies_by_type\": {\n",
      "            \"1\": 817\n",
      "        },\n",
      "        \"source_ips\": [\n",
      "            \"223982350\",\n",
      "            \"2886795954\",\n",
      "            \"2886799005\",\n",
      "            \"347974940\",\n",
      "            \"2886797292\",\n",
      "            \"2886748601\",\n",
      "            \"1758466143\",\n",
      "            \"2886796038\",\n",
      "            \"2886797201\",\n",
      "            \"2886798493\",\n",
      "            \"2886748210\",\n",
      "            \"2886798787\",\n",
      "            \"312599876\",\n",
      "            \"306430730\",\n",
      "            \"577669849\",\n",
      "            \"2354213398\",\n",
      "            \"2886730274\",\n",
      "            \"2886797085\",\n",
      "            \"2886796520\",\n",
      "            \"2886795585\",\n",
      "            \"2886799190\",\n",
      "            \"2886746688\",\n",
      "            \"2886748822\",\n",
      "            \"2886748569\",\n",
      "            \"2886748429\",\n",
      "            \"2886748563\",\n",
      "            \"2886748517\",\n",
      "            \"2886748592\",\n",
      "            \"2886746676\",\n",
      "            \"2886748296\",\n",
      "            \"2886748641\",\n",
      "            \"2886746524\",\n",
      "            \"2886748542\",\n",
      "            \"2886799102\",\n",
      "            \"2886746510\",\n",
      "            \"2886748626\",\n",
      "            \"2886748437\",\n",
      "            \"2886797350\",\n",
      "            \"2886748596\",\n",
      "            \"577499997\",\n",
      "            \"2886798870\"\n",
      "        ],\n",
      "        \"destination_ips\": [\n",
      "            \"2886795954\",\n",
      "            \"223982350\",\n",
      "            \"4294967295\",\n",
      "            \"347974940\",\n",
      "            \"3758096615\",\n",
      "            \"1758466143\",\n",
      "            \"312599876\",\n",
      "            \"306430730\",\n",
      "            \"577669849\",\n",
      "            \"2354213398\",\n",
      "            \"577499997\"\n",
      "        ],\n",
      "        \"protocol_distribution\": {\n",
      "            \"1\": 6907,\n",
      "            \"0\": 479\n",
      "        },\n",
      "        \"last_anomaly_seen\": \"2025-05-19 16:01:00.179666\"\n",
      "    }\n",
      "}\n"
     ]
    }
   ],
   "source": [
    "def generate_summary(df, validation_results):\n",
    "    \"\"\"Generate comprehensive anomaly detection summary\"\"\"\n",
    "    # Get anomalies\n",
    "    anomalies = df[df['predicted'] == 1]\n",
    "    total_packets = len(df)\n",
    "    total_anomalies = len(anomalies)\n",
    "    \n",
    "    # Get IP information from anomalies\n",
    "    # Convert numeric IPs back to string format for better readability\n",
    "    def int_to_ip(ip_int):\n",
    "        try:\n",
    "            return str(ipaddress.IPv4Address(ip_int))\n",
    "        except Exception:\n",
    "            return str(ip_int)\n",
    "    \n",
    "    # Convert IPs if they exist in the dataframe\n",
    "    if 'src_ip' in anomalies.columns:\n",
    "        src_ips = [int_to_ip(ip) for ip in anomalies['src_ip'].unique()]\n",
    "    else:\n",
    "        src_ips = []\n",
    "        \n",
    "    if 'dst_ip' in anomalies.columns:\n",
    "        dst_ips = [int_to_ip(ip) for ip in anomalies['dst_ip'].unique()]\n",
    "    else:\n",
    "        dst_ips = []\n",
    "    \n",
    "    # Protocol distribution\n",
    "    protocol_dist = df['protocol'].value_counts().to_dict()\n",
    "    \n",
    "    # Extract timestamps if available\n",
    "    last_seen = None\n",
    "    if 'timestamp' in anomalies.columns and not anomalies.empty:\n",
    "        last_seen = str(anomalies['timestamp'].max())\n",
    "    \n",
    "    # Create summary dictionary\n",
    "    summary = {\n",
    "        \"analysis_timestamp\": datetime.now().strftime(\"%Y-%m-%d %H:%M:%S\"),\n",
    "        \"model_performance\": {\n",
    "            \"accuracy\": validation_results['accuracy'],\n",
    "            \"precision\": validation_results['precision'],\n",
    "            \"recall\": validation_results['recall'],\n",
    "            \"f1_score\": validation_results['f1_score']\n",
    "        },\n",
    "        \"anomaly_summary\": {\n",
    "            \"total_packets\": total_packets,\n",
    "            \"total_anomalies\": total_anomalies,\n",
    "            \"anomaly_percentage\": (total_anomalies / total_packets * 100) if total_packets > 0 else 0,\n",
    "            \"anomalies_by_type\": {\"1\": total_anomalies},  # Type 1 anomalies as detected by the model\n",
    "            \"source_ips\": src_ips,\n",
    "            \"destination_ips\": dst_ips,\n",
    "            \"protocol_distribution\": protocol_dist,\n",
    "            \"last_anomaly_seen\": last_seen\n",
    "        }\n",
    "    }\n",
    "    \n",
    "    # Save summary to JSON file\n",
    "    with open(JSON_OUTPUT, 'w') as f:\n",
    "        json.dump(summary, f, indent=4)\n",
    "    \n",
    "    logging.info(f\"Anomaly detection summary saved to {JSON_OUTPUT}\")\n",
    "    return summary\n",
    "\n",
    "# Generate and save the summary\n",
    "summary = generate_summary(df_with_predictions, validation_results)\n",
    "print(json.dumps(summary, indent=4))"
   ]
  },
  {
   "cell_type": "markdown",
   "metadata": {},
   "source": [
    "## 7. Feature Importance Analysis"
   ]
  },
  {
   "cell_type": "code",
   "execution_count": 330,
   "metadata": {},
   "outputs": [
    {
     "name": "stdout",
     "output_type": "stream",
     "text": [
      "Requirement already satisfied: matplotlib in ./venv/lib/python3.12/site-packages (3.10.3)\n",
      "Requirement already satisfied: contourpy>=1.0.1 in ./venv/lib/python3.12/site-packages (from matplotlib) (1.3.2)\n",
      "Requirement already satisfied: cycler>=0.10 in ./venv/lib/python3.12/site-packages (from matplotlib) (0.12.1)\n",
      "Requirement already satisfied: fonttools>=4.22.0 in ./venv/lib/python3.12/site-packages (from matplotlib) (4.58.0)\n",
      "Requirement already satisfied: kiwisolver>=1.3.1 in ./venv/lib/python3.12/site-packages (from matplotlib) (1.4.8)\n",
      "Requirement already satisfied: numpy>=1.23 in ./venv/lib/python3.12/site-packages (from matplotlib) (2.2.6)\n",
      "Requirement already satisfied: packaging>=20.0 in ./venv/lib/python3.12/site-packages (from matplotlib) (25.0)\n",
      "Requirement already satisfied: pillow>=8 in ./venv/lib/python3.12/site-packages (from matplotlib) (11.2.1)\n",
      "Requirement already satisfied: pyparsing>=2.3.1 in ./venv/lib/python3.12/site-packages (from matplotlib) (3.2.3)\n",
      "Requirement already satisfied: python-dateutil>=2.7 in ./venv/lib/python3.12/site-packages (from matplotlib) (2.9.0.post0)\n",
      "Requirement already satisfied: six>=1.5 in ./venv/lib/python3.12/site-packages (from python-dateutil>=2.7->matplotlib) (1.17.0)\n",
      "Note: you may need to restart the kernel to use updated packages.\n",
      "\n",
      "Feature ranking:\n",
      "1. window_size (0.6248)\n",
      "2. src_ip (0.0912)\n",
      "3. length (0.0846)\n",
      "4. ttl (0.0825)\n",
      "5. dst_ip (0.0604)\n",
      "6. dst_port (0.0377)\n",
      "7. src_port (0.0175)\n",
      "8. flags (0.0012)\n",
      "9. protocol (0.0000)\n"
     ]
    },
    {
     "data": {
      "image/png": "[encoded data removed]",
      "text/plain": [
       "<Figure size 1000x600 with 1 Axes>"
      ]
     },
     "metadata": {},
     "output_type": "display_data"
    }
   ],
   "source": [
    "def analyze_feature_importance(model, features):\n",
    "    \"\"\"Analyze and visualize feature importance\"\"\"\n",
    "\n",
    "    %pip install matplotlib\n",
    "    import matplotlib.pyplot as plt\n",
    "    # Get feature importance from the model\n",
    "    importances = model.feature_importances_\n",
    "    \n",
    "    # Sort feature importances in descending order\n",
    "    indices = np.argsort(importances)[::-1]\n",
    "    \n",
    "    # Print feature ranking\n",
    "    print(\"\\nFeature ranking:\")\n",
    "    for i, idx in enumerate(indices):\n",
    "        print(f\"{i+1}. {features[idx]} ({importances[idx]:.4f})\")\n",
    "    \n",
    "    # Plot feature importances\n",
    "    plt.figure(figsize=(10, 6))\n",
    "    plt.title(\"Feature Importances for Anomaly Detection\")\n",
    "    plt.bar(range(len(features)), importances[indices], align=\"center\")\n",
    "    plt.xticks(range(len(features)), [features[i] for i in indices], rotation=45)\n",
    "    plt.xlim([-1, len(features)])\n",
    "    plt.tight_layout()\n",
    "    plt.show()\n",
    "\n",
    "# Analyze feature importance\n",
    "analyze_feature_importance(model, features)"
   ]
  },
  {
   "cell_type": "markdown",
   "metadata": {},
   "source": [
    "## 8. Main Execution Function"
   ]
  },
  {
   "cell_type": "code",
   "execution_count": 331,
   "metadata": {},
   "outputs": [
    {
     "name": "stderr",
     "output_type": "stream",
     "text": [
      "[INFO] Loaded 7386 packets from cleaned_packets.csv\n",
      "[INFO] Training set size: 5170 samples\n",
      "[INFO] Test set size: 2216 samples\n",
      "[INFO] Class distribution in training: Counter({0: 4612, 1: 558})\n",
      "[INFO] Class distribution in test: Counter({0: 1977, 1: 239})\n",
      "[INFO] Loading existing model from packet_classifier.joblib\n",
      "[INFO] Total packets analyzed: 7386\n",
      "[INFO] Total anomalies detected: 817 (11.06%)\n",
      "[INFO] Anomaly detection summary saved to SCAM.json\n"
     ]
    },
    {
     "name": "stdout",
     "output_type": "stream",
     "text": [
      "\n",
      "--- Model Evaluation ---\n",
      "              precision    recall  f1-score   support\n",
      "\n",
      "           0     0.9598    0.9530    0.9563      1977\n",
      "           1     0.6324    0.6695    0.6504       239\n",
      "\n",
      "    accuracy                         0.9224      2216\n",
      "   macro avg     0.7961    0.8112    0.8034      2216\n",
      "weighted avg     0.9245    0.9224    0.9233      2216\n",
      "\n",
      "Accuracy: 0.9224\n",
      "Precision: 0.6324\n",
      "Recall: 0.6695\n",
      "F1 Score: 0.6504\n",
      "Requirement already satisfied: matplotlib in ./venv/lib/python3.12/site-packages (3.10.3)\n",
      "Requirement already satisfied: contourpy>=1.0.1 in ./venv/lib/python3.12/site-packages (from matplotlib) (1.3.2)\n",
      "Requirement already satisfied: cycler>=0.10 in ./venv/lib/python3.12/site-packages (from matplotlib) (0.12.1)\n",
      "Requirement already satisfied: fonttools>=4.22.0 in ./venv/lib/python3.12/site-packages (from matplotlib) (4.58.0)\n",
      "Requirement already satisfied: kiwisolver>=1.3.1 in ./venv/lib/python3.12/site-packages (from matplotlib) (1.4.8)\n",
      "Requirement already satisfied: numpy>=1.23 in ./venv/lib/python3.12/site-packages (from matplotlib) (2.2.6)\n",
      "Requirement already satisfied: packaging>=20.0 in ./venv/lib/python3.12/site-packages (from matplotlib) (25.0)\n",
      "Requirement already satisfied: pillow>=8 in ./venv/lib/python3.12/site-packages (from matplotlib) (11.2.1)\n",
      "Requirement already satisfied: pyparsing>=2.3.1 in ./venv/lib/python3.12/site-packages (from matplotlib) (3.2.3)\n",
      "Requirement already satisfied: python-dateutil>=2.7 in ./venv/lib/python3.12/site-packages (from matplotlib) (2.9.0.post0)\n",
      "Requirement already satisfied: six>=1.5 in ./venv/lib/python3.12/site-packages (from python-dateutil>=2.7->matplotlib) (1.17.0)\n",
      "Note: you may need to restart the kernel to use updated packages.\n",
      "\n",
      "Feature ranking:\n",
      "1. window_size (0.6248)\n",
      "2. src_ip (0.0912)\n",
      "3. length (0.0846)\n",
      "4. ttl (0.0825)\n",
      "5. dst_ip (0.0604)\n",
      "6. dst_port (0.0377)\n",
      "7. src_port (0.0175)\n",
      "8. flags (0.0012)\n",
      "9. protocol (0.0000)\n"
     ]
    },
    {
     "data": {
      "image/png": "[encoded data removed]",
      "text/plain": [
       "<Figure size 1000x600 with 1 Axes>"
      ]
     },
     "metadata": {},
     "output_type": "display_data"
    },
    {
     "name": "stderr",
     "output_type": "stream",
     "text": [
      "[INFO] Packet classification and anomaly detection completed successfully!\n"
     ]
    }
   ],
   "source": [
    "def main():\n",
    "    \"\"\"Main function to execute the entire pipeline\"\"\"\n",
    "    try:\n",
    "        \n",
    "        # 0. Create cleaned CSV if it doesn't exist or force recreation\n",
    "        # if not os.path.exists(CLEAN_CSV) :\n",
    "        #     logging.info(\"Creating cleaned CSV file...\")\n",
    "        #     df_clean = create_cleaned_csv(RAW_CSV, CLEAN_CSV)\n",
    "        #     logging.info(f\"Created cleaned CSV file: {CLEAN_CSV}\")\n",
    "        # else:\n",
    "        #     logging.info(f\"Using existing cleaned CSV file: {CLEAN_CSV}\")\n",
    "            \n",
    "        # 1. Load the data\n",
    "        df = load_data()\n",
    "        \n",
    "        # 2. Prepare data and split into train/test\n",
    "        X_train, X_test, y_train, y_test, features = prepare_data(df)\n",
    "        \n",
    "        # 3. Train and save model\n",
    "        model = train_and_save_model(X_train, y_train)\n",
    "        \n",
    "        # 4. Validate model\n",
    "        validation_results = validate_model(model, X_test, y_test)\n",
    "        \n",
    "        # 5. Predict anomalies on full dataset\n",
    "        df_with_predictions = predict_anomalies(model, df, features)\n",
    "        \n",
    "        # 6. Generate summary\n",
    "        summary = generate_summary(df_with_predictions, validation_results)\n",
    "        \n",
    "        # 7. Feature importance\n",
    "        analyze_feature_importance(model, features)\n",
    "        \n",
    "        return True\n",
    "    except Exception as e:\n",
    "        logging.error(f\"Error in pipeline: {e}\")\n",
    "        return False\n",
    "\n",
    "# Execute the main function when running the notebook\n",
    "if __name__ == \"__main__\":\n",
    "    success = main()\n",
    "    if success:\n",
    "        logging.info(\"Packet classification and anomaly detection completed successfully!\")\n",
    "    else:\n",
    "        logging.error(\"Packet classification and anomaly detection failed!\")"
   ]
  },
  {
   "cell_type": "code",
   "execution_count": 332,
   "metadata": {},
   "outputs": [],
   "source": [
    "#time complexity ka kuch karna hai daa ke liye\n"
   ]
  },
  {
   "cell_type": "code",
   "execution_count": null,
   "metadata": {},
   "outputs": [],
   "source": []
  },
  {
   "cell_type": "code",
   "execution_count": null,
   "metadata": {},
   "outputs": [],
   "source": []
  },
  {
   "cell_type": "code",
   "execution_count": null,
   "metadata": {},
   "outputs": [],
   "source": []
  },
  {
   "cell_type": "code",
   "execution_count": null,
   "metadata": {},
   "outputs": [],
   "source": []
  },
  {
   "cell_type": "code",
   "execution_count": null,
   "metadata": {},
   "outputs": [],
   "source": []
  },
  {
   "cell_type": "code",
   "execution_count": null,
   "metadata": {},
   "outputs": [],
   "source": []
  },
  {
   "cell_type": "code",
   "execution_count": null,
   "metadata": {},
   "outputs": [],
   "source": []
  },
  {
   "cell_type": "code",
   "execution_count": null,
   "metadata": {},
   "outputs": [],
   "source": []
  },
  {
   "cell_type": "code",
   "execution_count": null,
   "metadata": {},
   "outputs": [],
   "source": []
  },
  {
   "cell_type": "code",
   "execution_count": null,
   "metadata": {},
   "outputs": [],
   "source": []
  },
  {
   "cell_type": "code",
   "execution_count": null,
   "metadata": {},
   "outputs": [],
   "source": []
  },
  {
   "cell_type": "code",
   "execution_count": null,
   "metadata": {},
   "outputs": [],
   "source": []
  },
  {
   "cell_type": "code",
   "execution_count": null,
   "metadata": {},
   "outputs": [],
   "source": []
  },
  {
   "cell_type": "code",
   "execution_count": null,
   "metadata": {},
   "outputs": [],
   "source": []
  },
  {
   "cell_type": "code",
   "execution_count": null,
   "metadata": {},
   "outputs": [],
   "source": []
  },
  {
   "cell_type": "code",
   "execution_count": null,
   "metadata": {},
   "outputs": [],
   "source": []
  },
  {
   "cell_type": "code",
   "execution_count": null,
   "metadata": {},
   "outputs": [],
   "source": []
  },
  {
   "cell_type": "code",
   "execution_count": null,
   "metadata": {},
   "outputs": [],
   "source": []
  },
  {
   "cell_type": "code",
   "execution_count": null,
   "metadata": {},
   "outputs": [],
   "source": []
  },
  {
   "cell_type": "code",
   "execution_count": null,
   "metadata": {},
   "outputs": [],
   "source": []
  },
  {
   "cell_type": "code",
   "execution_count": null,
   "metadata": {},
   "outputs": [],
   "source": []
  },
  {
   "cell_type": "code",
   "execution_count": null,
   "metadata": {},
   "outputs": [],
   "source": []
  },
  {
   "cell_type": "code",
   "execution_count": null,
   "metadata": {},
   "outputs": [],
   "source": []
  }
 ],
 "metadata": {
  "kernelspec": {
   "display_name": "venv",
   "language": "python",
   "name": "python3"
  },
  "language_info": {
   "codemirror_mode": {
    "name": "ipython",
    "version": 3
   },
   "file_extension": ".py",
   "mimetype": "text/x-python",
   "name": "python",
   "nbconvert_exporter": "python",
   "pygments_lexer": "ipython3",
   "version": "3.12.3"
  }
 },
 "nbformat": 4,
 "nbformat_minor": 4
}
